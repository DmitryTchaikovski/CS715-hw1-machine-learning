{
  "cells": [
    {
      "cell_type": "markdown",
      "source": [
        "### Course: Programming for Machine Learning\n",
        "\n",
        "🐍🤖🚀\n",
        "\n",
        "Introduction\n",
        "\n",
        "Welcome! This notebook will guide you through setting up your environment for developing machine learning models with Python. Please follow the instructions carefully to ensure that you have all the necessary tools and libraries installed. By the end of this guide, you'll be ready to start coding and experimenting with machine learning techniques using Python and Jupyter Lab."
      ],
      "metadata": {
        "id": "NBgXl5LPuFK4"
      },
      "id": "NBgXl5LPuFK4"
    },
    {
      "cell_type": "markdown",
      "source": [
        "## Step-by-Step Guide:\n",
        "\n",
        "## Setting Up a Python Environment for Machine Learning Using Conda",
        "\n",
        "Installing Jupyter",
        "\n",
        "and Essential Machine Learning Libraries",
        "\n",
        "Setting up a Python environment using Conda, installing JupyterLab, and installing essential libraries for machine learning."
      ],
      "metadata": {
        "id": "RN6W1eFlxpRh"
      },
      "id": "RN6W1eFlxpRh"
    },
    {
      "cell_type": "markdown",
      "source": [
        "## Part I"
      ],
      "metadata": {
        "id": "OZDuZSeCdshV"
      },
      "id": "OZDuZSeCdshV"
    },
    {
      "cell_type": "markdown",
      "source": [
        "\n",
        "## Step 1: Install Anaconda\n",
        "\n",
        "Anaconda is a distribution of Python that comes with Conda, a package and environment manager, as well as a wide range of pre-installed libraries that are useful for data science and machine learning.\n",
        "\n",
        "1. **Download Anaconda**: Go to the [Anaconda Download Page](https://docs.anaconda.com/anaconda/install/) and download the installer for your operating system (Windows, macOS, Linux).\n",
        "\n",
        "2. **Install Anaconda**: Follow the installation instructions for your operating system. During the installation, make sure to check the option to add Anaconda to your system PATH (especially on Windows).\n",
        "\n",
        "**Note.** One of the key benefits of installing Anaconda is that it includes both Python and pip by default, along with many other essential tools and packages. This means that after installing Anaconda, you don't need to separately install Python or `pip`."
      ],
      "metadata": {
        "id": "yGDzkOVNxz2B"
      },
      "id": "yGDzkOVNxz2B"
    },
    {
      "cell_type": "markdown",
      "source": [
        "## Step 2: Create a New Conda Environment\n",
        "\n",
        "Once you have Anaconda installed, you can create a new conda environment. This environment will be isolated, which helps avoid conflicts with other Python projects.\n",
        "\n",
        "1. **Open a Terminal or Command Prompt**: On Windows, you can open the Anaconda Prompt.\n",
        "\n",
        "2. **Create a New Environment**: Use the following command to create a new environment. Replace `my_ml_env` with a name you choose for your environment.\n",
        "\n",
        "    ```bash\n",
        "    conda create --name my_ml_env python=3.9\n",
        "    ```\n",
        "\n",
        "   This command creates a new environment named `my_ml_env` with Python 3.9.\n",
        "\n",
        "3. **Activate the Environment**: Before installing any packages, activate the new environment:\n",
        "\n",
        "    ```bash\n",
        "    conda activate my_ml_env\n",
        "    ```\n",
        "\n",
        "   You should see the environment name in the terminal prompt, indicating that the environment is active."
      ],
      "metadata": {
        "id": "rivoxE9rx_aA"
      },
      "id": "rivoxE9rx_aA"
    },
    {
      "cell_type": "markdown",
      "source": [
        "## Part II"
      ],
      "metadata": {
        "id": "k3f4ii2Kdqje"
      },
      "id": "k3f4ii2Kdqje"
    },
    {
      "cell_type": "markdown",
      "source": [
        "\n",
        "## Step 3: Install JupyterLab\n",
        "\n",
        "JupyterLab is an interactive development environment that is ideal for data science and machine learning projects. Install it using the following command:\n",
        "\n",
        "```bash\n",
        "conda install -c conda-forge jupyterlab\n",
        "```"
      ],
      "metadata": {
        "id": "Dr_UTzBpSMj_"
      },
      "id": "Dr_UTzBpSMj_"
    },
    {
      "cell_type": "markdown",
      "source": [
        "## Part III"
      ],
      "metadata": {
        "id": "ND4NuIBVdoTw"
      },
      "id": "ND4NuIBVdoTw"
    },
    {
      "cell_type": "markdown",
      "source": [
        "\n",
        "## Step 4: Install Essential Machine Learning Libraries\n",
        "\n",
        "With your environment activated and JupyterLab installed, you can now install the essential libraries for machine learning:\n",
        "\n",
        "1. **NumPy**: A fundamental package for numerical computations.\n",
        "\n",
        "    ```bash\n",
        "    conda install numpy\n",
        "    ```\n",
        "\n",
        "2. **Pandas**: A library for data manipulation and analysis.\n",
        "\n",
        "    ```bash\n",
        "    conda install pandas\n",
        "    ```\n",
        "\n",
        "3. **Matplotlib**: A plotting library for creating static, animated, and interactive visualizations.\n",
        "\n",
        "    ```bash\n",
        "    conda install matplotlib\n",
        "    ```\n",
        "\n",
        "4. **Seaborn**: A data visualization library based on Matplotlib.\n",
        "\n",
        "    ```bash\n",
        "    conda install seaborn\n",
        "    ```\n",
        "\n",
        "5. **Scikit-learn**: A machine learning library that provides simple and efficient tools for data analysis and modeling.\n",
        "\n",
        "    ```bash\n",
        "    conda install scikit-learn\n",
        "    ```\n",
        "\n",
        "6. **SciPy**: A library used for scientific and technical computing.\n",
        "\n",
        "    ```bash\n",
        "    conda install scipy\n",
        "    ```\n",
        "\n",
        "7. **TensorFlow and Keras**: TensorFlow is a popular deep learning framework, and Keras is an API built on top of TensorFlow. Keras comes packaged with TensorFlow, so installing TensorFlow will also provide you with Keras.\n",
        "\n",
        "    ```bash\n",
        "    conda install tensorflow\n",
        "    ```\n",
        "\n",
        "   You can verify Keras is installed by importing it in Python:\n",
        "\n",
        "    ```python\n",
        "    import keras\n",
        "    ```\n",
        "\n",
        "8. **PyTorch**: Another popular deep learning framework. (Optional: Only if you plan to work with deep learning models.)\n",
        "\n",
        "    ```bash\n",
        "    conda install pytorch torchvision torchaudio cpuonly -c pytorch\n",
        "    ```\n"
      ],
      "metadata": {
        "id": "FzvdT2H2buGx"
      },
      "id": "FzvdT2H2buGx"
    },
    {
      "cell_type": "markdown",
      "source": [
        "## Part (IV)"
      ],
      "metadata": {
        "id": "cLH_CYU6d1ad"
      },
      "id": "cLH_CYU6d1ad"
    },
    {
      "cell_type": "markdown",
      "source": [
        "## Step 5: Launch JupyterLab\n",
        "\n",
        "JupyterLab is a powerful tool for interactive data science and coding, and it is included with Anaconda. To open JupyterLab, follow these simple steps:\n",
        "\n",
        "### For Windows:\n",
        "1. Open the **Anaconda Prompt** from the Start Menu.\n",
        "2. Make sure your conda environment is activated:\n",
        "    ```bash\n",
        "    conda activate my_ml_env\n",
        "    ```\n",
        "3. Launch JupyterLab by typing the following command:\n",
        "    ```bash\n",
        "    jupyter lab\n",
        "    ```\n",
        "\n",
        "This will start a local server, and JupyterLab will automatically open in your default web browser.\n",
        "\n",
        "### For macOS or Linux:\n",
        "1. Open your terminal.\n",
        "2. Ensure your conda environment is activated:\n",
        "    ```bash\n",
        "    conda activate my_ml_env\n",
        "    ```\n",
        "3. Type the command:\n",
        "    ```bash\n",
        "    jupyter lab\n",
        "    ```\n",
        "\n",
        "This will open JupyterLab in your default web browser.\n",
        "\n",
        "Once JupyterLab is running, you can create new notebooks, open existing notebooks, or write code in Python interactively. It provides an easy way to experiment with data, run Python code, and visualize results."
      ],
      "metadata": {
        "id": "2aVchR0NOdEJ"
      },
      "id": "2aVchR0NOdEJ"
    },
    {
      "cell_type": "markdown",
      "source": [
        "## Step 6: Verify and Install Additional Machine Learning Libraries\n",
        "To check if these libraries are available, you can try importing them in the opend Jupyter lab notebook:\n",
        "\n",
        "```python\n",
        "import numpy as np\n",
        "import pandas as pd\n",
        "import matplotlib.pyplot as plt\n",
        "import seaborn as sns\n",
        "import scipy\n",
        "from sklearn import datasets\n",
        "```\n",
        "\n",
        "Click run. If these imports work without error, then the libraries are correctly installed.\n",
        "\n",
        "\n"
      ],
      "metadata": {
        "id": "YeSa8rQUOeNC"
      },
      "id": "YeSa8rQUOeNC"
    },
    {
      "cell_type": "markdown",
      "id": "05af84fc",
      "metadata": {
        "id": "05af84fc"
      },
      "source": [
        "\n",
        "\n",
        "## Conclusion\n",
        "\n",
        "You have successfully set up a Python environment using Conda, installed JupyterLab, and added essential libraries for machine learning, including TensorFlow and Keras. You are now ready to start exploring and developing machine learning models!\n",
        "\n",
        "Remember anytime you want to code you need to first activate your environment each time you work on your project using:\n",
        "\n",
        "```bash\n",
        "conda activate my_ml_env\n",
        "```\n",
        "\n",
        "Then run this to open your notebooks:\n",
        " ```bash\n",
        "jupyter lab\n",
        "```\n",
        "\n",
        "And deactivate it when you're done:\n",
        "\n",
        "```bash\n",
        "conda deactivate\n",
        "```\n",
        "\n",
        "#### Welldone! 🥳\n",
        "\n",
        "#### Cheers 🍻 to a fun and productive Python 🐍 Coding!\n"
      ]
    }
  ],
  "metadata": {
    "colab": {
      "provenance": []
    }
  },
  "nbformat": 4,
  "nbformat_minor": 5
}
